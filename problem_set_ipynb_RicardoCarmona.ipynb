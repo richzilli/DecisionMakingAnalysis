{
  "cells": [
    {
      "cell_type": "markdown",
      "metadata": {
        "id": "view-in-github",
        "colab_type": "text"
      },
      "source": [
        "<a href=\"https://colab.research.google.com/github/richzilli/DecisionMakingAnalysis/blob/main/problem_set_ipynb_RicardoCarmona.ipynb\" target=\"_parent\"><img src=\"https://colab.research.google.com/assets/colab-badge.svg\" alt=\"Open In Colab\"/></a>"
      ]
    },
    {
      "cell_type": "markdown",
      "metadata": {
        "id": "yvmdh5Af13EU"
      },
      "source": [
        "# Problem Set\n",
        "[![Open In Colab](https://colab.research.google.com/assets/colab-badge.svg)](https://colab.research.google.com/github/HesusG/python-decision-making-support-analysis/blob/main/module_1/problem_set.ipynb)"
      ]
    },
    {
      "cell_type": "markdown",
      "metadata": {
        "id": "6-yoFHUS13EX"
      },
      "source": [
        "## Problem Set Introduction \n",
        "\n",
        "Welcome to the Linear Programming Problem Set! 🙌\n",
        "\n",
        "This set consists of three bi-dimensional linear programming problems that require the application of a systematic six-step approach. These steps include:\n",
        "\n",
        "1. Identify the objective 🎯\n",
        "2. Specify decision variables ✏️\n",
        "3. Formulate the objective function 📋\n",
        "4. Define constraints ⛓️\n",
        "5. Consider hidden conditions 🔍\n",
        "6. Formulate the complete model ⚙️\n",
        "\n",
        "To solve these problems effectively, it is recommended to use Python, a powerful programming language that offers various libraries and solvers for linear programming. 🐍 Make sure to include code implementation for each problem to validate your results. 💻\n",
        "\n",
        "Remember to document your thought process, assumptions, and code implementation. This will aid in understanding the problem-solving approach and serve as a valuable reference.\n",
        "\n",
        "Let's begin solving these bi-dimensional linear programming problems using the six-step methodology and Python programming. Good luck and enjoy the problem-solving journey! 😄\n",
        "\n",
        "\n",
        "![Random Giphy](https://media.giphy.com/media/Ws6T5PN7wHv3cY8xy8/giphy.gif)\n",
        "\n",
        "* Remember to use the following code to install pulp in your notebook and make sure to load it by using import."
      ]
    },
    {
      "cell_type": "code",
      "execution_count": 5,
      "metadata": {
        "id": "NgK3j20E13EY",
        "colab": {
          "base_uri": "https://localhost:8080/"
        },
        "outputId": "0639fa55-a4b5-4a8f-bf30-14c114d1e8e7"
      },
      "outputs": [
        {
          "output_type": "stream",
          "name": "stdout",
          "text": [
            "Looking in indexes: https://pypi.org/simple, https://us-python.pkg.dev/colab-wheels/public/simple/\n",
            "Collecting pulp\n",
            "  Downloading PuLP-2.7.0-py3-none-any.whl (14.3 MB)\n",
            "\u001b[2K     \u001b[90m━━━━━━━━━━━━━━━━━━━━━━━━━━━━━━━━━━━━━━━━\u001b[0m \u001b[32m14.3/14.3 MB\u001b[0m \u001b[31m79.9 MB/s\u001b[0m eta \u001b[36m0:00:00\u001b[0m\n",
            "\u001b[?25hInstalling collected packages: pulp\n",
            "Successfully installed pulp-2.7.0\n"
          ]
        }
      ],
      "source": [
        "!pip install pulp"
      ]
    },
    {
      "cell_type": "code",
      "execution_count": 7,
      "metadata": {
        "id": "i0EFvoYr13EZ"
      },
      "outputs": [],
      "source": [
        "from pulp import *"
      ]
    },
    {
      "cell_type": "markdown",
      "metadata": {
        "id": "_Y7Gzmb_13EZ"
      },
      "source": [
        "## Problem 1\n",
        "A company manufactures and sells two types of hydraulic pumps: 1) Normal and 2) Heavy-duty. The production process for the pumps consists of three activities: assembly, painting, and testing (quality control), with their respective times listed in the table below. The profit contribution from selling a normal pump is $50, while a heavy-duty pump yields a profit of $75. There are 4800 hours available per week for assembly, 1980 hours for painting, and 900 hours for quality testing. Based on past experiences, the company expects to sell 300 normal pumps and 180 heavy-duty pumps. The manager is interested in determining the quantity of pumps to manufacture weekly in order to maximize profits."
      ]
    },
    {
      "cell_type": "markdown",
      "metadata": {
        "id": "lJqVHtSI13EZ"
      },
      "source": [
        "|    Type     | Assembly Time | Painting Time | Testing Time |\n",
        "|-------------|---------------|---------------|--------------|\n",
        "|   Normal    |      3.6      |      1.6      |     0.6      |\n",
        "|   Heavy-duty |      4.8      |      1.8      |     0.6      |\n"
      ]
    },
    {
      "cell_type": "code",
      "execution_count": 13,
      "metadata": {
        "id": "rNh3OGBD13Ea",
        "colab": {
          "base_uri": "https://localhost:8080/"
        },
        "outputId": "960a1b85-59db-48ac-ba66-8cccf4751f36"
      },
      "outputs": [
        {
          "output_type": "stream",
          "name": "stdout",
          "text": [
            "Optimal Solution\n",
            "Normal 300.0\n",
            "Heavy-Duty 775.0\n",
            "Profit 73125.0\n"
          ]
        }
      ],
      "source": [
        "# # Step 1 \n",
        "prob = LpProblem(\"Maximize_Profits\", LpMaximize)\n",
        "# Identify the decision variables.\n",
        "x1 = LpVariable(\"Normal\", lowBound=0, cat=\"Integer\")\n",
        "x2 = LpVariable(\"Heavy-Duty\", lowBound=0, cat=\"Integer\")\n",
        "\n",
        "# Step 3 Objective Function\n",
        "prob += 50*x1 + 75*x2, \"Maximize_Profits\"\n",
        "\n",
        "#Step 4 Define the constraints\n",
        "prob += 3.6*x1 + 4.8*x2 <= 4800, \"Assembly Constraint\"\n",
        "\n",
        "prob += 1.6*x1 + 1.8*x2 <= 1980, \"Painting Constraint\"\n",
        "prob += 0.6*x1 + 0.6*x2 <= 900, \"Testing Constraint\"\n",
        "\n",
        "prob += x1 >= 300, \"Normal Constraint\"\n",
        "prob += x2 >= 180, \"Heavy Duty Constraint\"\n",
        "\n",
        "prob.solve()\n",
        "\n",
        "print(\"Optimal Solution\")\n",
        "print(\"Normal\", x1.varValue)\n",
        "print(\"Heavy-Duty\", x2.varValue) \n",
        "print(\"Profit\", prob.objective.value())\n",
        "     \n"
      ]
    },
    {
      "cell_type": "markdown",
      "metadata": {
        "id": "ZhhbkVYg13Ea"
      },
      "source": [
        "## Problem 2\n",
        " A company is interested in developing a fertilizer that contains a minimum of 100 units of potassium, 25 units of nitrogen, and 10 units of ammonia. For this purpose, they have products A and B, which cost 10 and 15 euros per ton in the market, respectively. The content of potassium, nitrogen, and ammonia per ton of product is shown in the following table.\n",
        "\n",
        "Develop the formulation of the new fertilizer taking into consideration that it is desired for the fertilizer to cost as little as possible.\n"
      ]
    },
    {
      "cell_type": "markdown",
      "metadata": {
        "id": "-swd3oHi13Ea"
      },
      "source": [
        "|      | POTASSIUM | NITROGEN | AMMONIA |\n",
        "|---------|------------|----------|---------|\n",
        "| Product A |      2       |      0.3     |     0.2    |\n",
        "| Product B |      1       |      0.6     |     0.2    |\n"
      ]
    },
    {
      "cell_type": "code",
      "execution_count": 11,
      "metadata": {
        "id": "TGrPNIds13Ea",
        "outputId": "c13209ea-ad34-4814-a377-c5910d41c57b",
        "colab": {
          "base_uri": "https://localhost:8080/"
        }
      },
      "outputs": [
        {
          "output_type": "stream",
          "name": "stdout",
          "text": [
            "Optimal Solution\n",
            "Product_A 17.0\n",
            "Product_B 33.0\n",
            "Profit 665.0\n"
          ]
        }
      ],
      "source": [
        "#ST1. Get the amount of product for maximimum profit\n",
        "prob = LpProblem (\"Maximize_Profits\", LpMaximize)\n",
        "#ST2. Identify the decision variables \n",
        "v1 = LpVariable(\"Product_A\", lowBound=0, cat=\"Integer\" )\n",
        "v2 = LpVariable(\"Product_B\", lowBound=0, cat=\"Integer\")\n",
        "\n",
        "#ST3. Objective Function\n",
        "prob += 10*v1 + 15*v2, \"Maximize_Profits\"\n",
        "\n",
        "#ST4. Define constraints\n",
        "prob += 2*v1 + 1*v2 <= 100, \"Potassium Constraint\"\n",
        "prob += .3*v1 + .6*v2 <= 25, \"Nitrogen Constraint\"\n",
        "prob += .2*v1 + 0.2*v2 <= 10, \"Ammonia Constraint\"\n",
        "\n",
        "\n",
        "prob.solve()\n",
        "\n",
        "print(\"Optimal Solution\")\n",
        "print(\"Product_A\", v1.varValue)\n",
        "print(\"Product_B\", v2.varValue) \n",
        "print(\"Profit\", prob.objective.value())"
      ]
    },
    {
      "cell_type": "markdown",
      "metadata": {
        "id": "iJfIa6VZ13Ea"
      },
      "source": [
        "## Problem 3\n",
        "A bakery is famous for its two specialties: the imperial cake and the lime cake. The imperial cake requires half a kilogram of sugar and eight eggs, and it is sold for eight dollars. The lime cake requires one kilogram of sugar and eight eggs, and it is sold for ten dollars. In the warehouse, there are only ten kilograms of sugar and one hundred twenty eggs. What combination of these specialties can be made in order to make the most profits?"
      ]
    },
    {
      "cell_type": "markdown",
      "metadata": {
        "id": "8q-zfXji13Eb"
      },
      "source": [
        "|            | Sugar (kilogram) | Eggs | Price |\n",
        "|------------|-----------------|------|-------|\n",
        "| Imperial Cake |      0.5        |   8   |   8   |\n",
        "| Lime Cake   |        1          |   8   |  10  |\n"
      ]
    },
    {
      "cell_type": "code",
      "execution_count": 12,
      "metadata": {
        "id": "VuCzA03J13Eb",
        "colab": {
          "base_uri": "https://localhost:8080/"
        },
        "outputId": "615bbde3-db9b-4514-b44e-5fcdf81b4c31"
      },
      "outputs": [
        {
          "output_type": "stream",
          "name": "stdout",
          "text": [
            "Optimal Solution\n",
            "Imperial_Cake 4.0\n",
            "Lime_Cake 1.0\n",
            "Profit 40.0\n"
          ]
        }
      ],
      "source": [
        "# Step 1 (GET THE AMOUNT OF PRODUCTS TO MAKE THE MAXIMUM PROFIT) \n",
        "prob = LpProblem(\"Maximize_Profits\", LpMaximize)\n",
        "# Identify the decision variables.\n",
        "x1 = LpVariable(\"Imperial_Cake\", lowBound=0, cat=\"Integer\")\n",
        "x2 = LpVariable(\"Lime_Cake\", lowBound=0, cat=\"Integer\")\n",
        "\n",
        "# Step 3 Objective Function\n",
        "prob += 8*x1 + 8*x2, \"Maximize_Profits\"\n",
        "\n",
        "#Step 4 Define the constraints\n",
        "prob += .5*x1 + 8*x2 <= 10, \"Sugar Constraint\"\n",
        "prob += 1*x1 + 8*x2 <= 120, \"Eggs Constraint\"\n",
        "\n",
        "\n",
        "prob += x2 >= 1, \"Lime_Cake\"\n",
        "\n",
        "prob.solve()\n",
        "\n",
        "print(\"Optimal Solution\")\n",
        "print(\"Imperial_Cake\", x1.varValue)\n",
        "print(\"Lime_Cake\", x2.varValue) \n",
        "print(\"Profit\", prob.objective.value())"
      ]
    }
  ],
  "metadata": {
    "language_info": {
      "name": "python"
    },
    "orig_nbformat": 4,
    "colab": {
      "provenance": [],
      "include_colab_link": true
    },
    "kernelspec": {
      "name": "python3",
      "display_name": "Python 3"
    }
  },
  "nbformat": 4,
  "nbformat_minor": 0
}